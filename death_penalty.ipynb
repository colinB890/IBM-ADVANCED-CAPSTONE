{
 "cells": [
  {
   "cell_type": "code",
   "execution_count": 181,
   "metadata": {},
   "outputs": [],
   "source": [
    "import numpy as np\n",
    "import pandas as pd\n",
    "import matplotlib.pyplot as plt\n",
    "import seaborn as sns\n",
    "import mpl_toolkits\n",
    "%matplotlib inline\n",
    "\n",
    "import os\n",
    "import sys\n",
    "import re\n",
    "import random\n",
    "from pyspark import SparkContext\n",
    "from pyspark.sql import SQLContext\n",
    "from pyspark.sql.types import *\n",
    "from pyspark.sql import Row\n",
    "from pyspark.sql.functions import *\n",
    "\n",
    "# Evaluation Metrics\n",
    "from sklearn.metrics import mean_squared_error as mse\n",
    "from sklearn.metrics import r2_score as rs\n",
    "from sklearn.metrics import mean_absolute_error as mae\n",
    "\n",
    "# to perform hyperparameter tuning\n",
    "from sklearn.model_selection import GridSearchCV\n",
    "from sklearn.model_selection import RandomizedSearchCV\n",
    "\n"
   ]
  },
  {
   "cell_type": "markdown",
   "metadata": {},
   "source": [
    "HERE I HAVE CREATED A FUNCTION TO CALL FOR LOADING DATA, THIS WAY DIFFERENT VARIABLES CAN EASILY BE ASSIGNED TO DIFFERENT DIMENSIONS OF THE DATA BEING USED"
   ]
  },
  {
   "cell_type": "code",
   "execution_count": 182,
   "metadata": {},
   "outputs": [],
   "source": [
    "def get_data(name,lim):\n",
    "    \n",
    "   fetch_data = pd.read_csv(name)\n",
    "   return fetch_data"
   ]
  },
  {
   "cell_type": "code",
   "execution_count": 183,
   "metadata": {},
   "outputs": [],
   "source": [
    "#LOAD DATABASE\n",
    "\n",
    "df = get_data('execution_database.csv',1)\n",
    "df = df.dropna() #Drops missing values in the dataset\n"
   ]
  },
  {
   "cell_type": "code",
   "execution_count": 184,
   "metadata": {},
   "outputs": [
    {
     "data": {
      "image/png": "[encoded data removed]",
      "text/plain": [
       "<Figure size 1152x1152 with 1 Axes>"
      ]
     },
     "metadata": {
      "needs_background": "light"
     },
     "output_type": "display_data"
    }
   ],
   "source": [
    "# Plot histogram grid\n",
    "df.hist(figsize=(16,16), xrot=-45) ## Display the labels rotated by 45 degress\n",
    "\n",
    "# Clear the text \"residue\"\n",
    "plt.show()\n"
   ]
  },
  {
   "cell_type": "markdown",
   "metadata": {},
   "source": [
    "The next few cells are just peeking at the data in question. Scroll over if uninterested."
   ]
  },
  {
   "cell_type": "code",
   "execution_count": 185,
   "metadata": {},
   "outputs": [
    {
     "data": {
      "text/html": [
       "<div>\n",
       "<style scoped>\n",
       "    .dataframe tbody tr th:only-of-type {\n",
       "        vertical-align: middle;\n",
       "    }\n",
       "\n",
       "    .dataframe tbody tr th {\n",
       "        vertical-align: top;\n",
       "    }\n",
       "\n",
       "    .dataframe thead th {\n",
       "        text-align: right;\n",
       "    }\n",
       "</style>\n",
       "<table border=\"1\" class=\"dataframe\">\n",
       "  <thead>\n",
       "    <tr style=\"text-align: right;\">\n",
       "      <th></th>\n",
       "      <th>Age</th>\n",
       "    </tr>\n",
       "  </thead>\n",
       "  <tbody>\n",
       "    <tr>\n",
       "      <th>count</th>\n",
       "      <td>1489.000000</td>\n",
       "    </tr>\n",
       "    <tr>\n",
       "      <th>mean</th>\n",
       "      <td>41.791807</td>\n",
       "    </tr>\n",
       "    <tr>\n",
       "      <th>std</th>\n",
       "      <td>9.676538</td>\n",
       "    </tr>\n",
       "    <tr>\n",
       "      <th>min</th>\n",
       "      <td>22.000000</td>\n",
       "    </tr>\n",
       "    <tr>\n",
       "      <th>25%</th>\n",
       "      <td>34.000000</td>\n",
       "    </tr>\n",
       "    <tr>\n",
       "      <th>50%</th>\n",
       "      <td>40.000000</td>\n",
       "    </tr>\n",
       "    <tr>\n",
       "      <th>75%</th>\n",
       "      <td>48.000000</td>\n",
       "    </tr>\n",
       "    <tr>\n",
       "      <th>max</th>\n",
       "      <td>83.000000</td>\n",
       "    </tr>\n",
       "  </tbody>\n",
       "</table>\n",
       "</div>"
      ],
      "text/plain": [
       "               Age\n",
       "count  1489.000000\n",
       "mean     41.791807\n",
       "std       9.676538\n",
       "min      22.000000\n",
       "25%      34.000000\n",
       "50%      40.000000\n",
       "75%      48.000000\n",
       "max      83.000000"
      ]
     },
     "execution_count": 185,
     "metadata": {},
     "output_type": "execute_result"
    }
   ],
   "source": [
    "df.describe() #Here, I just want to look at the components of the data which I am interested in"
   ]
  },
  {
   "cell_type": "markdown",
   "metadata": {},
   "source": [
    "CORRELATIONS"
   ]
  },
  {
   "cell_type": "code",
   "execution_count": 187,
   "metadata": {},
   "outputs": [
    {
     "data": {
      "text/html": [
       "<div>\n",
       "<style scoped>\n",
       "    .dataframe tbody tr th:only-of-type {\n",
       "        vertical-align: middle;\n",
       "    }\n",
       "\n",
       "    .dataframe tbody tr th {\n",
       "        vertical-align: top;\n",
       "    }\n",
       "\n",
       "    .dataframe thead th {\n",
       "        text-align: right;\n",
       "    }\n",
       "</style>\n",
       "<table border=\"1\" class=\"dataframe\">\n",
       "  <thead>\n",
       "    <tr style=\"text-align: right;\">\n",
       "      <th></th>\n",
       "      <th>Age</th>\n",
       "    </tr>\n",
       "  </thead>\n",
       "  <tbody>\n",
       "    <tr>\n",
       "      <th>Age</th>\n",
       "      <td>1.0</td>\n",
       "    </tr>\n",
       "  </tbody>\n",
       "</table>\n",
       "</div>"
      ],
      "text/plain": [
       "     Age\n",
       "Age  1.0"
      ]
     },
     "execution_count": 187,
     "metadata": {},
     "output_type": "execute_result"
    }
   ],
   "source": [
    "df.corr()"
   ]
  },
  {
   "cell_type": "code",
   "execution_count": 188,
   "metadata": {},
   "outputs": [
    {
     "data": {
      "text/plain": [
       "12/09/1999    4\n",
       "06/26/2007    3\n",
       "08/30/2000    3\n",
       "08/28/1987    3\n",
       "03/15/2000    3\n",
       "Name: Date, dtype: int64"
      ]
     },
     "execution_count": 188,
     "metadata": {},
     "output_type": "execute_result"
    }
   ],
   "source": [
    "#gapminder[loc1,'continent'].value_counts()\n",
    "df['Date'].value_counts().head()"
   ]
  },
  {
   "cell_type": "code",
   "execution_count": 189,
   "metadata": {},
   "outputs": [
    {
     "data": {
      "text/plain": [
       "Date                                                     12/28/1984\n",
       "Name                                                      Zane Hill\n",
       "Age                                                              83\n",
       "Sex                                                               m\n",
       "Race                                                          White\n",
       "Victim_Race_Sex     6 Black Male(s)1 White Female(s)1 White Male(s)\n",
       "State                                                            WY\n",
       "Region                                                            W\n",
       "Method                                             Lethal Injection\n",
       "Juvenile                                                        Yes\n",
       "Federal                                                         Yes\n",
       "Volunteer                                                       Yes\n",
       "Foreign National                                                Yes\n",
       "County                                                         Yuma\n",
       "dtype: object"
      ]
     },
     "execution_count": 189,
     "metadata": {},
     "output_type": "execute_result"
    }
   ],
   "source": [
    "#OLDEST PERSON EXECUTED OVERALL\n",
    "\n",
    "oldest = df.max()\n",
    "\n",
    "oldest"
   ]
  },
  {
   "cell_type": "code",
   "execution_count": 190,
   "metadata": {},
   "outputs": [
    {
     "data": {
      "text/html": [
       "<div>\n",
       "<style scoped>\n",
       "    .dataframe tbody tr th:only-of-type {\n",
       "        vertical-align: middle;\n",
       "    }\n",
       "\n",
       "    .dataframe tbody tr th {\n",
       "        vertical-align: top;\n",
       "    }\n",
       "\n",
       "    .dataframe thead th {\n",
       "        text-align: right;\n",
       "    }\n",
       "</style>\n",
       "<table border=\"1\" class=\"dataframe\">\n",
       "  <thead>\n",
       "    <tr style=\"text-align: right;\">\n",
       "      <th></th>\n",
       "      <th>Date</th>\n",
       "      <th>Name</th>\n",
       "      <th>Age</th>\n",
       "      <th>Sex</th>\n",
       "      <th>Race</th>\n",
       "      <th>Victim_Race_Sex</th>\n",
       "      <th>State</th>\n",
       "      <th>Region</th>\n",
       "      <th>Method</th>\n",
       "      <th>Juvenile</th>\n",
       "      <th>Federal</th>\n",
       "      <th>Volunteer</th>\n",
       "      <th>Foreign National</th>\n",
       "      <th>County</th>\n",
       "    </tr>\n",
       "  </thead>\n",
       "  <tbody>\n",
       "    <tr>\n",
       "      <th>270</th>\n",
       "      <td>01/24/1989</td>\n",
       "      <td>Theodore Bundy</td>\n",
       "      <td>42</td>\n",
       "      <td>m</td>\n",
       "      <td>White</td>\n",
       "      <td>1 White Female(s)</td>\n",
       "      <td>FL</td>\n",
       "      <td>S</td>\n",
       "      <td>Electrocution</td>\n",
       "      <td>No</td>\n",
       "      <td>No</td>\n",
       "      <td>No</td>\n",
       "      <td>No</td>\n",
       "      <td>Columbia</td>\n",
       "    </tr>\n",
       "  </tbody>\n",
       "</table>\n",
       "</div>"
      ],
      "text/plain": [
       "           Date            Name  Age Sex   Race    Victim_Race_Sex State  \\\n",
       "270  01/24/1989  Theodore Bundy   42   m  White  1 White Female(s)    FL   \n",
       "\n",
       "    Region         Method Juvenile Federal Volunteer Foreign National  \\\n",
       "270      S  Electrocution       No      No        No               No   \n",
       "\n",
       "       County  \n",
       "270  Columbia  "
      ]
     },
     "execution_count": 190,
     "metadata": {},
     "output_type": "execute_result"
    }
   ],
   "source": [
    "#df[df['A'].str.contains(\"hello\")]\n",
    "#SEARCH FOR PART OF NAME\n",
    "name = df.loc[df['Name'].str.contains('Bundy')]\n",
    "name"
   ]
  },
  {
   "cell_type": "code",
   "execution_count": 191,
   "metadata": {},
   "outputs": [
    {
     "data": {
      "text/html": [
       "<div>\n",
       "<style scoped>\n",
       "    .dataframe tbody tr th:only-of-type {\n",
       "        vertical-align: middle;\n",
       "    }\n",
       "\n",
       "    .dataframe tbody tr th {\n",
       "        vertical-align: top;\n",
       "    }\n",
       "\n",
       "    .dataframe thead th {\n",
       "        text-align: right;\n",
       "    }\n",
       "</style>\n",
       "<table border=\"1\" class=\"dataframe\">\n",
       "  <thead>\n",
       "    <tr style=\"text-align: right;\">\n",
       "      <th></th>\n",
       "      <th>Date</th>\n",
       "      <th>Name</th>\n",
       "      <th>Age</th>\n",
       "      <th>Sex</th>\n",
       "      <th>Race</th>\n",
       "      <th>Victim_Race_Sex</th>\n",
       "      <th>State</th>\n",
       "      <th>Region</th>\n",
       "      <th>Method</th>\n",
       "      <th>Juvenile</th>\n",
       "      <th>Federal</th>\n",
       "      <th>Volunteer</th>\n",
       "      <th>Foreign National</th>\n",
       "      <th>County</th>\n",
       "    </tr>\n",
       "  </thead>\n",
       "  <tbody>\n",
       "    <tr>\n",
       "      <th>0</th>\n",
       "      <td>01/10/1986</td>\n",
       "      <td>James Roach</td>\n",
       "      <td>25</td>\n",
       "      <td>m</td>\n",
       "      <td>White</td>\n",
       "      <td>1 White Male(s)1 White Female(s)</td>\n",
       "      <td>SC</td>\n",
       "      <td>S</td>\n",
       "      <td>Electrocution</td>\n",
       "      <td>Yes</td>\n",
       "      <td>No</td>\n",
       "      <td>No</td>\n",
       "      <td>No</td>\n",
       "      <td>Richland</td>\n",
       "    </tr>\n",
       "    <tr>\n",
       "      <th>1</th>\n",
       "      <td>01/11/1985</td>\n",
       "      <td>Joseph Shaw</td>\n",
       "      <td>29</td>\n",
       "      <td>m</td>\n",
       "      <td>White</td>\n",
       "      <td>1 White Male(s)1 White Female(s)</td>\n",
       "      <td>SC</td>\n",
       "      <td>S</td>\n",
       "      <td>Electrocution</td>\n",
       "      <td>No</td>\n",
       "      <td>No</td>\n",
       "      <td>No</td>\n",
       "      <td>No</td>\n",
       "      <td>Richland</td>\n",
       "    </tr>\n",
       "    <tr>\n",
       "      <th>4</th>\n",
       "      <td>01/06/1994</td>\n",
       "      <td>Keith Wells</td>\n",
       "      <td>31</td>\n",
       "      <td>m</td>\n",
       "      <td>White</td>\n",
       "      <td>1 White Male(s)1 White Female(s)</td>\n",
       "      <td>ID</td>\n",
       "      <td>W</td>\n",
       "      <td>Lethal Injection</td>\n",
       "      <td>No</td>\n",
       "      <td>No</td>\n",
       "      <td>Yes</td>\n",
       "      <td>No</td>\n",
       "      <td>Ada</td>\n",
       "    </tr>\n",
       "    <tr>\n",
       "      <th>6</th>\n",
       "      <td>01/12/2000</td>\n",
       "      <td>Earl Heiselbertz</td>\n",
       "      <td>48</td>\n",
       "      <td>m</td>\n",
       "      <td>White</td>\n",
       "      <td>2 White Female(s)</td>\n",
       "      <td>TX</td>\n",
       "      <td>S</td>\n",
       "      <td>Lethal Injection</td>\n",
       "      <td>No</td>\n",
       "      <td>No</td>\n",
       "      <td>No</td>\n",
       "      <td>No</td>\n",
       "      <td>Sabine</td>\n",
       "    </tr>\n",
       "    <tr>\n",
       "      <th>8</th>\n",
       "      <td>01/04/1985</td>\n",
       "      <td>David Martin</td>\n",
       "      <td>32</td>\n",
       "      <td>m</td>\n",
       "      <td>White</td>\n",
       "      <td>2 White Male(s)2 White Female(s)</td>\n",
       "      <td>LA</td>\n",
       "      <td>S</td>\n",
       "      <td>Electrocution</td>\n",
       "      <td>No</td>\n",
       "      <td>No</td>\n",
       "      <td>No</td>\n",
       "      <td>No</td>\n",
       "      <td>Lafourche Parish</td>\n",
       "    </tr>\n",
       "  </tbody>\n",
       "</table>\n",
       "</div>"
      ],
      "text/plain": [
       "         Date              Name  Age Sex   Race  \\\n",
       "0  01/10/1986       James Roach   25   m  White   \n",
       "1  01/11/1985       Joseph Shaw   29   m  White   \n",
       "4  01/06/1994       Keith Wells   31   m  White   \n",
       "6  01/12/2000  Earl Heiselbertz   48   m  White   \n",
       "8  01/04/1985      David Martin   32   m  White   \n",
       "\n",
       "                    Victim_Race_Sex State Region            Method Juvenile  \\\n",
       "0  1 White Male(s)1 White Female(s)    SC      S     Electrocution      Yes   \n",
       "1  1 White Male(s)1 White Female(s)    SC      S     Electrocution       No   \n",
       "4  1 White Male(s)1 White Female(s)    ID      W  Lethal Injection       No   \n",
       "6                 2 White Female(s)    TX      S  Lethal Injection       No   \n",
       "8  2 White Male(s)2 White Female(s)    LA      S     Electrocution       No   \n",
       "\n",
       "  Federal Volunteer Foreign National            County  \n",
       "0      No        No               No          Richland  \n",
       "1      No        No               No          Richland  \n",
       "4      No       Yes               No               Ada  \n",
       "6      No        No               No            Sabine  \n",
       "8      No        No               No  Lafourche Parish  "
      ]
     },
     "execution_count": 191,
     "metadata": {},
     "output_type": "execute_result"
    }
   ],
   "source": [
    "#SEARCH WHERE VICTIM(S) WERE FEMALE\n",
    "victim = df.loc[df['Victim_Race_Sex'].str.contains(\"Female\") == True]\n",
    "victim.head()"
   ]
  },
  {
   "cell_type": "code",
   "execution_count": 192,
   "metadata": {},
   "outputs": [
    {
     "data": {
      "text/html": [
       "<div>\n",
       "<style scoped>\n",
       "    .dataframe tbody tr th:only-of-type {\n",
       "        vertical-align: middle;\n",
       "    }\n",
       "\n",
       "    .dataframe tbody tr th {\n",
       "        vertical-align: top;\n",
       "    }\n",
       "\n",
       "    .dataframe thead th {\n",
       "        text-align: right;\n",
       "    }\n",
       "</style>\n",
       "<table border=\"1\" class=\"dataframe\">\n",
       "  <thead>\n",
       "    <tr style=\"text-align: right;\">\n",
       "      <th></th>\n",
       "      <th>Date</th>\n",
       "      <th>Name</th>\n",
       "      <th>Age</th>\n",
       "      <th>Sex</th>\n",
       "      <th>Race</th>\n",
       "      <th>Victim_Race_Sex</th>\n",
       "      <th>State</th>\n",
       "      <th>Region</th>\n",
       "      <th>Method</th>\n",
       "      <th>Juvenile</th>\n",
       "      <th>Federal</th>\n",
       "      <th>Volunteer</th>\n",
       "      <th>Foreign National</th>\n",
       "      <th>County</th>\n",
       "    </tr>\n",
       "  </thead>\n",
       "  <tbody>\n",
       "    <tr>\n",
       "      <th>0</th>\n",
       "      <td>01/10/1986</td>\n",
       "      <td>James Roach</td>\n",
       "      <td>25</td>\n",
       "      <td>m</td>\n",
       "      <td>White</td>\n",
       "      <td>1 White Male(s)1 White Female(s)</td>\n",
       "      <td>SC</td>\n",
       "      <td>S</td>\n",
       "      <td>Electrocution</td>\n",
       "      <td>Yes</td>\n",
       "      <td>No</td>\n",
       "      <td>No</td>\n",
       "      <td>No</td>\n",
       "      <td>Richland</td>\n",
       "    </tr>\n",
       "    <tr>\n",
       "      <th>1</th>\n",
       "      <td>01/11/1985</td>\n",
       "      <td>Joseph Shaw</td>\n",
       "      <td>29</td>\n",
       "      <td>m</td>\n",
       "      <td>White</td>\n",
       "      <td>1 White Male(s)1 White Female(s)</td>\n",
       "      <td>SC</td>\n",
       "      <td>S</td>\n",
       "      <td>Electrocution</td>\n",
       "      <td>No</td>\n",
       "      <td>No</td>\n",
       "      <td>No</td>\n",
       "      <td>No</td>\n",
       "      <td>Richland</td>\n",
       "    </tr>\n",
       "    <tr>\n",
       "      <th>8</th>\n",
       "      <td>01/04/1985</td>\n",
       "      <td>David Martin</td>\n",
       "      <td>32</td>\n",
       "      <td>m</td>\n",
       "      <td>White</td>\n",
       "      <td>2 White Male(s)2 White Female(s)</td>\n",
       "      <td>LA</td>\n",
       "      <td>S</td>\n",
       "      <td>Electrocution</td>\n",
       "      <td>No</td>\n",
       "      <td>No</td>\n",
       "      <td>No</td>\n",
       "      <td>No</td>\n",
       "      <td>Lafourche Parish</td>\n",
       "    </tr>\n",
       "    <tr>\n",
       "      <th>14</th>\n",
       "      <td>01/09/1985</td>\n",
       "      <td>Roosevelt Green</td>\n",
       "      <td>28</td>\n",
       "      <td>m</td>\n",
       "      <td>Black</td>\n",
       "      <td>1 White Female(s)</td>\n",
       "      <td>GA</td>\n",
       "      <td>S</td>\n",
       "      <td>Electrocution</td>\n",
       "      <td>No</td>\n",
       "      <td>No</td>\n",
       "      <td>No</td>\n",
       "      <td>No</td>\n",
       "      <td>Brooks</td>\n",
       "    </tr>\n",
       "    <tr>\n",
       "      <th>20</th>\n",
       "      <td>01/10/1997</td>\n",
       "      <td>Billy Waldrop</td>\n",
       "      <td>44</td>\n",
       "      <td>m</td>\n",
       "      <td>White</td>\n",
       "      <td>1 White Male(s)</td>\n",
       "      <td>AL</td>\n",
       "      <td>S</td>\n",
       "      <td>Electrocution</td>\n",
       "      <td>No</td>\n",
       "      <td>No</td>\n",
       "      <td>No</td>\n",
       "      <td>No</td>\n",
       "      <td>Talladega</td>\n",
       "    </tr>\n",
       "  </tbody>\n",
       "</table>\n",
       "</div>"
      ],
      "text/plain": [
       "          Date             Name  Age Sex   Race  \\\n",
       "0   01/10/1986      James Roach   25   m  White   \n",
       "1   01/11/1985      Joseph Shaw   29   m  White   \n",
       "8   01/04/1985     David Martin   32   m  White   \n",
       "14  01/09/1985  Roosevelt Green   28   m  Black   \n",
       "20  01/10/1997    Billy Waldrop   44   m  White   \n",
       "\n",
       "                     Victim_Race_Sex State Region         Method Juvenile  \\\n",
       "0   1 White Male(s)1 White Female(s)    SC      S  Electrocution      Yes   \n",
       "1   1 White Male(s)1 White Female(s)    SC      S  Electrocution       No   \n",
       "8   2 White Male(s)2 White Female(s)    LA      S  Electrocution       No   \n",
       "14                 1 White Female(s)    GA      S  Electrocution       No   \n",
       "20                   1 White Male(s)    AL      S  Electrocution       No   \n",
       "\n",
       "   Federal Volunteer Foreign National            County  \n",
       "0       No        No               No          Richland  \n",
       "1       No        No               No          Richland  \n",
       "8       No        No               No  Lafourche Parish  \n",
       "14      No        No               No            Brooks  \n",
       "20      No        No               No         Talladega  "
      ]
     },
     "execution_count": 192,
     "metadata": {},
     "output_type": "execute_result"
    }
   ],
   "source": [
    "#SEARCH WHERE METHOD WAS ELECTROCUTION\n",
    "elec = df.loc[df['Method'] == 'Electrocution']\n",
    "elec.head()"
   ]
  },
  {
   "cell_type": "code",
   "execution_count": 193,
   "metadata": {},
   "outputs": [
    {
     "name": "stderr",
     "output_type": "stream",
     "text": [
      "/anaconda3/lib/python3.7/site-packages/ipykernel_launcher.py:2: UserWarning: Boolean Series key will be reindexed to match DataFrame index.\n",
      "  \n"
     ]
    },
    {
     "data": {
      "text/html": [
       "<div>\n",
       "<style scoped>\n",
       "    .dataframe tbody tr th:only-of-type {\n",
       "        vertical-align: middle;\n",
       "    }\n",
       "\n",
       "    .dataframe tbody tr th {\n",
       "        vertical-align: top;\n",
       "    }\n",
       "\n",
       "    .dataframe thead th {\n",
       "        text-align: right;\n",
       "    }\n",
       "</style>\n",
       "<table border=\"1\" class=\"dataframe\">\n",
       "  <thead>\n",
       "    <tr style=\"text-align: right;\">\n",
       "      <th></th>\n",
       "      <th>Date</th>\n",
       "      <th>Name</th>\n",
       "      <th>Age</th>\n",
       "      <th>Sex</th>\n",
       "      <th>Race</th>\n",
       "      <th>Victim_Race_Sex</th>\n",
       "      <th>State</th>\n",
       "      <th>Region</th>\n",
       "      <th>Method</th>\n",
       "      <th>Juvenile</th>\n",
       "      <th>Federal</th>\n",
       "      <th>Volunteer</th>\n",
       "      <th>Foreign National</th>\n",
       "      <th>County</th>\n",
       "    </tr>\n",
       "  </thead>\n",
       "  <tbody>\n",
       "    <tr>\n",
       "      <th>103</th>\n",
       "      <td>05/02/1997</td>\n",
       "      <td>Walter Hill</td>\n",
       "      <td>62</td>\n",
       "      <td>m</td>\n",
       "      <td>Black</td>\n",
       "      <td>2 Black Male(s)1 Black Female(s)</td>\n",
       "      <td>AL</td>\n",
       "      <td>S</td>\n",
       "      <td>Electrocution</td>\n",
       "      <td>No</td>\n",
       "      <td>No</td>\n",
       "      <td>No</td>\n",
       "      <td>No</td>\n",
       "      <td>Jefferson</td>\n",
       "    </tr>\n",
       "    <tr>\n",
       "      <th>111</th>\n",
       "      <td>05/05/1999</td>\n",
       "      <td>Clydell Coleman</td>\n",
       "      <td>62</td>\n",
       "      <td>m</td>\n",
       "      <td>Black</td>\n",
       "      <td>1 Black Female(s)</td>\n",
       "      <td>TX</td>\n",
       "      <td>S</td>\n",
       "      <td>Lethal Injection</td>\n",
       "      <td>No</td>\n",
       "      <td>No</td>\n",
       "      <td>No</td>\n",
       "      <td>No</td>\n",
       "      <td>McLennan</td>\n",
       "    </tr>\n",
       "    <tr>\n",
       "      <th>190</th>\n",
       "      <td>07/02/2003</td>\n",
       "      <td>Hilton Crawford</td>\n",
       "      <td>64</td>\n",
       "      <td>m</td>\n",
       "      <td>White</td>\n",
       "      <td>1 White Male(s)</td>\n",
       "      <td>TX</td>\n",
       "      <td>S</td>\n",
       "      <td>Lethal Injection</td>\n",
       "      <td>No</td>\n",
       "      <td>No</td>\n",
       "      <td>No</td>\n",
       "      <td>No</td>\n",
       "      <td>Montgomery</td>\n",
       "    </tr>\n",
       "    <tr>\n",
       "      <th>267</th>\n",
       "      <td>01/26/1984</td>\n",
       "      <td>Anthony Antone</td>\n",
       "      <td>66</td>\n",
       "      <td>m</td>\n",
       "      <td>White</td>\n",
       "      <td>1 White Male(s)</td>\n",
       "      <td>FL</td>\n",
       "      <td>S</td>\n",
       "      <td>Electrocution</td>\n",
       "      <td>No</td>\n",
       "      <td>No</td>\n",
       "      <td>No</td>\n",
       "      <td>No</td>\n",
       "      <td>Hillsborough</td>\n",
       "    </tr>\n",
       "    <tr>\n",
       "      <th>297</th>\n",
       "      <td>01/24/2002</td>\n",
       "      <td>Ronald Spivey</td>\n",
       "      <td>62</td>\n",
       "      <td>m</td>\n",
       "      <td>White</td>\n",
       "      <td>1 White Male(s)</td>\n",
       "      <td>GA</td>\n",
       "      <td>S</td>\n",
       "      <td>Lethal Injection</td>\n",
       "      <td>No</td>\n",
       "      <td>No</td>\n",
       "      <td>No</td>\n",
       "      <td>No</td>\n",
       "      <td>Muscogee</td>\n",
       "    </tr>\n",
       "  </tbody>\n",
       "</table>\n",
       "</div>"
      ],
      "text/plain": [
       "           Date             Name  Age Sex   Race  \\\n",
       "103  05/02/1997      Walter Hill   62   m  Black   \n",
       "111  05/05/1999  Clydell Coleman   62   m  Black   \n",
       "190  07/02/2003  Hilton Crawford   64   m  White   \n",
       "267  01/26/1984   Anthony Antone   66   m  White   \n",
       "297  01/24/2002    Ronald Spivey   62   m  White   \n",
       "\n",
       "                      Victim_Race_Sex State Region            Method Juvenile  \\\n",
       "103  2 Black Male(s)1 Black Female(s)    AL      S     Electrocution       No   \n",
       "111                 1 Black Female(s)    TX      S  Lethal Injection       No   \n",
       "190                   1 White Male(s)    TX      S  Lethal Injection       No   \n",
       "267                   1 White Male(s)    FL      S     Electrocution       No   \n",
       "297                   1 White Male(s)    GA      S  Lethal Injection       No   \n",
       "\n",
       "    Federal Volunteer Foreign National        County  \n",
       "103      No        No               No     Jefferson  \n",
       "111      No        No               No      McLennan  \n",
       "190      No        No               No    Montgomery  \n",
       "267      No        No               No  Hillsborough  \n",
       "297      No        No               No      Muscogee  "
      ]
     },
     "execution_count": 193,
     "metadata": {},
     "output_type": "execute_result"
    }
   ],
   "source": [
    "#SEARCH WHERE AGE = X, AND SEX = M/F\n",
    "df_n = df.loc[df['Age'] > 61] [df['Sex'] == 'm']\n",
    "\n",
    "df_n.head()"
   ]
  },
  {
   "cell_type": "code",
   "execution_count": 195,
   "metadata": {},
   "outputs": [
    {
     "data": {
      "text/plain": [
       "Age    37.876427\n",
       "dtype: float64"
      ]
     },
     "execution_count": 195,
     "metadata": {},
     "output_type": "execute_result"
    }
   ],
   "source": [
    "# AVERAGE OVERALL AGE\n",
    "age_df = df.loc[df['Age']]\n",
    "age_df.mean()"
   ]
  },
  {
   "cell_type": "markdown",
   "metadata": {},
   "source": [
    "MY APOLOGIES TO TEXAS, THEY ARE JUST AN EASY STATE TO PICK ON IN THIS CASE"
   ]
  },
  {
   "cell_type": "code",
   "execution_count": 196,
   "metadata": {},
   "outputs": [
    {
     "data": {
      "text/plain": [
       "Date                      12/18/1986\n",
       "Name                  Yosvanis Valle\n",
       "Age                               67\n",
       "Sex                                m\n",
       "Race                           White\n",
       "Victim_Race_Sex      4 White Male(s)\n",
       "State                             TX\n",
       "Region                             S\n",
       "Method              Lethal Injection\n",
       "Juvenile                         Yes\n",
       "Federal                           No\n",
       "Volunteer                        Yes\n",
       "Foreign National                 Yes\n",
       "County                          Wood\n",
       "dtype: object"
      ]
     },
     "execution_count": 196,
     "metadata": {},
     "output_type": "execute_result"
    }
   ],
   "source": [
    "#THE OLDEST PERSON EXECUTED IN TEXAS WAS\n",
    "\n",
    "tx_df = df.loc[df['State']=='TX']\n",
    "tx_df.max()"
   ]
  },
  {
   "cell_type": "code",
   "execution_count": 197,
   "metadata": {},
   "outputs": [
    {
     "data": {
      "text/plain": [
       "<function seaborn.utils.despine(fig=None, ax=None, top=True, right=True, left=False, bottom=False, offset=None, trim=False)>"
      ]
     },
     "execution_count": 197,
     "metadata": {},
     "output_type": "execute_result"
    },
    {
     "data": {
      "image/png": "[encoded data removed]",
      "text/plain": [
       "<Figure size 432x288 with 1 Axes>"
      ]
     },
     "metadata": {
      "needs_background": "light"
     },
     "output_type": "display_data"
    }
   ],
   "source": [
    "#tx_df.plot.hist(bins = 20)\n",
    "#plt.title('AGE OF EXECUTED PEOPLE IN TEXAS')\n",
    "\n",
    "tx_df['Age'].value_counts().plot(kind='hist')\n",
    "plt.title('Amount of Murders by AGE')\n",
    "plt.xlabel('Age')\n",
    "plt.ylabel('AMOUNT')\n",
    "sns.despine"
   ]
  },
  {
   "cell_type": "code",
   "execution_count": 198,
   "metadata": {},
   "outputs": [
    {
     "data": {
      "text/plain": [
       "Date                       01/04/1995\n",
       "Name                      Aaron Foust\n",
       "Age                                24\n",
       "Sex                                 f\n",
       "Race                            Asian\n",
       "Victim_Race_Sex     1 Asian Female(s)\n",
       "State                              TX\n",
       "Region                              S\n",
       "Method               Lethal Injection\n",
       "Juvenile                           No\n",
       "Federal                            No\n",
       "Volunteer                          No\n",
       "Foreign National                   No\n",
       "County                       Anderson\n",
       "dtype: object"
      ]
     },
     "execution_count": 198,
     "metadata": {},
     "output_type": "execute_result"
    }
   ],
   "source": [
    "#THE YOUNGEST PERSON EXECUTED IN TEXAS WAS\n",
    "\n",
    "tx_df = df.loc[df['State']=='TX']\n",
    "tx_df.min()"
   ]
  },
  {
   "cell_type": "code",
   "execution_count": 199,
   "metadata": {},
   "outputs": [
    {
     "data": {
      "text/html": [
       "<div>\n",
       "<style scoped>\n",
       "    .dataframe tbody tr th:only-of-type {\n",
       "        vertical-align: middle;\n",
       "    }\n",
       "\n",
       "    .dataframe tbody tr th {\n",
       "        vertical-align: top;\n",
       "    }\n",
       "\n",
       "    .dataframe thead th {\n",
       "        text-align: right;\n",
       "    }\n",
       "</style>\n",
       "<table border=\"1\" class=\"dataframe\">\n",
       "  <thead>\n",
       "    <tr style=\"text-align: right;\">\n",
       "      <th></th>\n",
       "      <th>Date</th>\n",
       "      <th>Name</th>\n",
       "      <th>Age</th>\n",
       "      <th>Sex</th>\n",
       "      <th>Race</th>\n",
       "      <th>Victim_Race_Sex</th>\n",
       "      <th>State</th>\n",
       "      <th>Region</th>\n",
       "      <th>Method</th>\n",
       "      <th>Juvenile</th>\n",
       "      <th>Federal</th>\n",
       "      <th>Volunteer</th>\n",
       "      <th>Foreign National</th>\n",
       "      <th>County</th>\n",
       "    </tr>\n",
       "  </thead>\n",
       "  <tbody>\n",
       "    <tr>\n",
       "      <th>403</th>\n",
       "      <td>11/14/2002</td>\n",
       "      <td>Mir Aimal Kasi</td>\n",
       "      <td>38</td>\n",
       "      <td>m</td>\n",
       "      <td>Other</td>\n",
       "      <td>1 White Male(s)</td>\n",
       "      <td>VA</td>\n",
       "      <td>S</td>\n",
       "      <td>Lethal Injection</td>\n",
       "      <td>No</td>\n",
       "      <td>No</td>\n",
       "      <td>No</td>\n",
       "      <td>Yes</td>\n",
       "      <td>Fairfax</td>\n",
       "    </tr>\n",
       "    <tr>\n",
       "      <th>411</th>\n",
       "      <td>12/06/2001</td>\n",
       "      <td>Sahib Al-Mosawi</td>\n",
       "      <td>53</td>\n",
       "      <td>m</td>\n",
       "      <td>Other</td>\n",
       "      <td>1 Other Male(s)1 Other Female(s)</td>\n",
       "      <td>OK</td>\n",
       "      <td>S</td>\n",
       "      <td>Lethal Injection</td>\n",
       "      <td>No</td>\n",
       "      <td>No</td>\n",
       "      <td>No</td>\n",
       "      <td>Yes</td>\n",
       "      <td>Oklahoma</td>\n",
       "    </tr>\n",
       "  </tbody>\n",
       "</table>\n",
       "</div>"
      ],
      "text/plain": [
       "           Date             Name  Age Sex   Race  \\\n",
       "403  11/14/2002   Mir Aimal Kasi   38   m  Other   \n",
       "411  12/06/2001  Sahib Al-Mosawi   53   m  Other   \n",
       "\n",
       "                      Victim_Race_Sex State Region            Method Juvenile  \\\n",
       "403                   1 White Male(s)    VA      S  Lethal Injection       No   \n",
       "411  1 Other Male(s)1 Other Female(s)    OK      S  Lethal Injection       No   \n",
       "\n",
       "    Federal Volunteer Foreign National    County  \n",
       "403      No        No              Yes   Fairfax  \n",
       "411      No        No              Yes  Oklahoma  "
      ]
     },
     "execution_count": 199,
     "metadata": {},
     "output_type": "execute_result"
    }
   ],
   "source": [
    "#Are there \"Other\" values in Race?\n",
    "\n",
    "Race = df.loc[df['Race']=='Other']\n",
    "Race"
   ]
  },
  {
   "cell_type": "code",
   "execution_count": 200,
   "metadata": {},
   "outputs": [
    {
     "data": {
      "text/html": [
       "<div>\n",
       "<style scoped>\n",
       "    .dataframe tbody tr th:only-of-type {\n",
       "        vertical-align: middle;\n",
       "    }\n",
       "\n",
       "    .dataframe tbody tr th {\n",
       "        vertical-align: top;\n",
       "    }\n",
       "\n",
       "    .dataframe thead th {\n",
       "        text-align: right;\n",
       "    }\n",
       "</style>\n",
       "<table border=\"1\" class=\"dataframe\">\n",
       "  <thead>\n",
       "    <tr style=\"text-align: right;\">\n",
       "      <th></th>\n",
       "      <th>Date</th>\n",
       "      <th>Name</th>\n",
       "      <th>Age</th>\n",
       "      <th>Sex</th>\n",
       "      <th>Race</th>\n",
       "      <th>Victim_Race_Sex</th>\n",
       "      <th>State</th>\n",
       "      <th>Region</th>\n",
       "      <th>Method</th>\n",
       "      <th>Juvenile</th>\n",
       "      <th>Federal</th>\n",
       "      <th>Volunteer</th>\n",
       "      <th>Foreign National</th>\n",
       "      <th>County</th>\n",
       "    </tr>\n",
       "  </thead>\n",
       "  <tbody>\n",
       "    <tr>\n",
       "      <th>6</th>\n",
       "      <td>01/12/2000</td>\n",
       "      <td>Earl Heiselbertz</td>\n",
       "      <td>48</td>\n",
       "      <td>m</td>\n",
       "      <td>White</td>\n",
       "      <td>2 White Female(s)</td>\n",
       "      <td>TX</td>\n",
       "      <td>S</td>\n",
       "      <td>Lethal Injection</td>\n",
       "      <td>No</td>\n",
       "      <td>No</td>\n",
       "      <td>No</td>\n",
       "      <td>No</td>\n",
       "      <td>Sabine</td>\n",
       "    </tr>\n",
       "    <tr>\n",
       "      <th>13</th>\n",
       "      <td>01/09/2001</td>\n",
       "      <td>Jack Clark</td>\n",
       "      <td>37</td>\n",
       "      <td>m</td>\n",
       "      <td>White</td>\n",
       "      <td>1 Latino Female(s)</td>\n",
       "      <td>TX</td>\n",
       "      <td>S</td>\n",
       "      <td>Lethal Injection</td>\n",
       "      <td>No</td>\n",
       "      <td>No</td>\n",
       "      <td>No</td>\n",
       "      <td>No</td>\n",
       "      <td>Lubbock</td>\n",
       "    </tr>\n",
       "    <tr>\n",
       "      <th>15</th>\n",
       "      <td>01/07/1988</td>\n",
       "      <td>Robert Streetman</td>\n",
       "      <td>27</td>\n",
       "      <td>m</td>\n",
       "      <td>White</td>\n",
       "      <td>1 White Female(s)</td>\n",
       "      <td>TX</td>\n",
       "      <td>S</td>\n",
       "      <td>Lethal Injection</td>\n",
       "      <td>No</td>\n",
       "      <td>No</td>\n",
       "      <td>No</td>\n",
       "      <td>No</td>\n",
       "      <td>Hardin</td>\n",
       "    </tr>\n",
       "    <tr>\n",
       "      <th>17</th>\n",
       "      <td>01/04/1995</td>\n",
       "      <td>Jesse Jacobs</td>\n",
       "      <td>44</td>\n",
       "      <td>m</td>\n",
       "      <td>White</td>\n",
       "      <td>1 White Female(s)</td>\n",
       "      <td>TX</td>\n",
       "      <td>S</td>\n",
       "      <td>Lethal Injection</td>\n",
       "      <td>No</td>\n",
       "      <td>No</td>\n",
       "      <td>No</td>\n",
       "      <td>No</td>\n",
       "      <td>Montgomery</td>\n",
       "    </tr>\n",
       "    <tr>\n",
       "      <th>21</th>\n",
       "      <td>01/05/1999</td>\n",
       "      <td>John Moody</td>\n",
       "      <td>46</td>\n",
       "      <td>m</td>\n",
       "      <td>White</td>\n",
       "      <td>1 White Female(s)</td>\n",
       "      <td>TX</td>\n",
       "      <td>S</td>\n",
       "      <td>Lethal Injection</td>\n",
       "      <td>No</td>\n",
       "      <td>No</td>\n",
       "      <td>No</td>\n",
       "      <td>No</td>\n",
       "      <td>Taylor</td>\n",
       "    </tr>\n",
       "  </tbody>\n",
       "</table>\n",
       "</div>"
      ],
      "text/plain": [
       "          Date              Name  Age Sex   Race     Victim_Race_Sex State  \\\n",
       "6   01/12/2000  Earl Heiselbertz   48   m  White   2 White Female(s)    TX   \n",
       "13  01/09/2001        Jack Clark   37   m  White  1 Latino Female(s)    TX   \n",
       "15  01/07/1988  Robert Streetman   27   m  White   1 White Female(s)    TX   \n",
       "17  01/04/1995      Jesse Jacobs   44   m  White   1 White Female(s)    TX   \n",
       "21  01/05/1999        John Moody   46   m  White   1 White Female(s)    TX   \n",
       "\n",
       "   Region            Method Juvenile Federal Volunteer Foreign National  \\\n",
       "6       S  Lethal Injection       No      No        No               No   \n",
       "13      S  Lethal Injection       No      No        No               No   \n",
       "15      S  Lethal Injection       No      No        No               No   \n",
       "17      S  Lethal Injection       No      No        No               No   \n",
       "21      S  Lethal Injection       No      No        No               No   \n",
       "\n",
       "        County  \n",
       "6       Sabine  \n",
       "13     Lubbock  \n",
       "15      Hardin  \n",
       "17  Montgomery  \n",
       "21      Taylor  "
      ]
     },
     "execution_count": 200,
     "metadata": {},
     "output_type": "execute_result"
    }
   ],
   "source": [
    "date_range = df.loc[df['State'] == 'TX']\n",
    "date_range.head()"
   ]
  },
  {
   "cell_type": "code",
   "execution_count": 201,
   "metadata": {},
   "outputs": [],
   "source": [
    "#ax = df.plot(kind='area', alpha=0.35, figsize=(10, 5), color = 'rgbkymc')\n",
    "\n",
    "#ax.set_title('EXECUTION AGE AVG')\n",
    "#ax.set_ylabel('AGE')\n",
    "#ax.set_xlabel('BY STATE')"
   ]
  },
  {
   "cell_type": "code",
   "execution_count": 202,
   "metadata": {},
   "outputs": [],
   "source": [
    "#df.plot(kind='bar', figsize=(10, 6))\n",
    "\n",
    "#plt.xlabel('STATE') # add to x-label to the plot\n",
    "#plt.ylabel('AGE') # add y-label to the plot\n",
    "#plt.title('Executions by state') # add title to the plot\n",
    "\n",
    "#plt.show()"
   ]
  },
  {
   "cell_type": "markdown",
   "metadata": {},
   "source": [
    "A LINEAR REGRESSION MODEL SEEMS TO BE THE BEST APPROACH, SINCE WE ARE DEALING WITH PAST EVENTS"
   ]
  },
  {
   "cell_type": "code",
   "execution_count": 203,
   "metadata": {},
   "outputs": [],
   "source": [
    "from sklearn.linear_model import LinearRegression\n",
    "import sklearn\n",
    "from sklearn.model_selection import train_test_split\n"
   ]
  },
  {
   "cell_type": "code",
   "execution_count": 204,
   "metadata": {},
   "outputs": [],
   "source": [
    "reg = LinearRegression()"
   ]
  },
  {
   "cell_type": "markdown",
   "metadata": {},
   "source": [
    "HERE, I HAVE TO DO SOME DATA CLEANING SINCE I CANNOT DROP CERTAIN VALUES, SUCH AS GENDER AND \n",
    "RACE.\n",
    "HERE, WHITE = 1, BLACK = 2, Native American = 3, Latino = 4, Asian = 5"
   ]
  },
  {
   "cell_type": "code",
   "execution_count": 205,
   "metadata": {},
   "outputs": [],
   "source": [
    "df.Sex.replace(['m', 'f'], [0, 1], inplace=True)\n",
    "df.Race.replace(['White', 'Black','Native American','Latino','Asian','Other'], [1, 2, 3, 4, 5, 0], inplace=True)\n",
    "#df.dropna(axis='columns')\n",
    "#df.dropna()"
   ]
  },
  {
   "cell_type": "code",
   "execution_count": 206,
   "metadata": {},
   "outputs": [],
   "source": [
    "train1 = df.drop(['Date','Name','State','Juvenile','Method','Victim_Race_Sex','Region','Federal','Volunteer','Foreign National','County'],axis=1)"
   ]
  },
  {
   "cell_type": "code",
   "execution_count": 207,
   "metadata": {},
   "outputs": [],
   "source": [
    "labels = df['Sex']"
   ]
  },
  {
   "cell_type": "code",
   "execution_count": 208,
   "metadata": {},
   "outputs": [],
   "source": [
    "x_train , x_test , y_train , y_test = train_test_split(train1, labels, test_size = 0.20,random_state =2)\n"
   ]
  },
  {
   "cell_type": "markdown",
   "metadata": {},
   "source": [
    "STANDARDIZE TRAININING SET"
   ]
  },
  {
   "cell_type": "code",
   "execution_count": 209,
   "metadata": {},
   "outputs": [],
   "source": [
    "train_mean = x_train.mean()\n",
    "train_std = x_train.std()\n"
   ]
  },
  {
   "cell_type": "code",
   "execution_count": 210,
   "metadata": {},
   "outputs": [],
   "source": [
    "## Standardize the train data set\n",
    "x_train = (x_train - train_mean) / train_std"
   ]
  },
  {
   "cell_type": "code",
   "execution_count": 211,
   "metadata": {},
   "outputs": [
    {
     "data": {
      "text/html": [
       "<div>\n",
       "<style scoped>\n",
       "    .dataframe tbody tr th:only-of-type {\n",
       "        vertical-align: middle;\n",
       "    }\n",
       "\n",
       "    .dataframe tbody tr th {\n",
       "        vertical-align: top;\n",
       "    }\n",
       "\n",
       "    .dataframe thead th {\n",
       "        text-align: right;\n",
       "    }\n",
       "</style>\n",
       "<table border=\"1\" class=\"dataframe\">\n",
       "  <thead>\n",
       "    <tr style=\"text-align: right;\">\n",
       "      <th></th>\n",
       "      <th>Age</th>\n",
       "      <th>Sex</th>\n",
       "      <th>Race</th>\n",
       "    </tr>\n",
       "  </thead>\n",
       "  <tbody>\n",
       "    <tr>\n",
       "      <th>count</th>\n",
       "      <td>1.191000e+03</td>\n",
       "      <td>1.191000e+03</td>\n",
       "      <td>1.191000e+03</td>\n",
       "    </tr>\n",
       "    <tr>\n",
       "      <th>mean</th>\n",
       "      <td>1.146112e-16</td>\n",
       "      <td>1.903972e-17</td>\n",
       "      <td>-2.889749e-18</td>\n",
       "    </tr>\n",
       "    <tr>\n",
       "      <th>std</th>\n",
       "      <td>1.000000e+00</td>\n",
       "      <td>1.000000e+00</td>\n",
       "      <td>1.000000e+00</td>\n",
       "    </tr>\n",
       "    <tr>\n",
       "      <th>min</th>\n",
       "      <td>-2.021849e+00</td>\n",
       "      <td>-1.128911e-01</td>\n",
       "      <td>-7.074442e-01</td>\n",
       "    </tr>\n",
       "    <tr>\n",
       "      <th>25%</th>\n",
       "      <td>-7.947270e-01</td>\n",
       "      <td>-1.128911e-01</td>\n",
       "      <td>-7.074442e-01</td>\n",
       "    </tr>\n",
       "    <tr>\n",
       "      <th>50%</th>\n",
       "      <td>-7.890602e-02</td>\n",
       "      <td>-1.128911e-01</td>\n",
       "      <td>-7.074442e-01</td>\n",
       "    </tr>\n",
       "    <tr>\n",
       "      <th>75%</th>\n",
       "      <td>6.369150e-01</td>\n",
       "      <td>-1.128911e-01</td>\n",
       "      <td>3.997385e-01</td>\n",
       "    </tr>\n",
       "    <tr>\n",
       "      <th>max</th>\n",
       "      <td>4.216020e+00</td>\n",
       "      <td>8.850659e+00</td>\n",
       "      <td>3.721286e+00</td>\n",
       "    </tr>\n",
       "  </tbody>\n",
       "</table>\n",
       "</div>"
      ],
      "text/plain": [
       "                Age           Sex          Race\n",
       "count  1.191000e+03  1.191000e+03  1.191000e+03\n",
       "mean   1.146112e-16  1.903972e-17 -2.889749e-18\n",
       "std    1.000000e+00  1.000000e+00  1.000000e+00\n",
       "min   -2.021849e+00 -1.128911e-01 -7.074442e-01\n",
       "25%   -7.947270e-01 -1.128911e-01 -7.074442e-01\n",
       "50%   -7.890602e-02 -1.128911e-01 -7.074442e-01\n",
       "75%    6.369150e-01 -1.128911e-01  3.997385e-01\n",
       "max    4.216020e+00  8.850659e+00  3.721286e+00"
      ]
     },
     "execution_count": 211,
     "metadata": {},
     "output_type": "execute_result"
    }
   ],
   "source": [
    "## Check for mean and std dev.\n",
    "x_train.describe()"
   ]
  },
  {
   "cell_type": "code",
   "execution_count": 212,
   "metadata": {},
   "outputs": [],
   "source": [
    "## Note: We use train_mean and train_std_dev to standardize test data set\n",
    "x_test = (x_test - train_mean) / train_std"
   ]
  },
  {
   "cell_type": "code",
   "execution_count": 213,
   "metadata": {},
   "outputs": [],
   "source": [
    "## Predict Train results\n",
    "y_train_pred = np.ones(y_train.shape[0])*y_train.mean()"
   ]
  },
  {
   "cell_type": "code",
   "execution_count": 214,
   "metadata": {},
   "outputs": [],
   "source": [
    "## Predict Test results\n",
    "y_pred = np.ones(y_test.shape[0])*y_train.mean()"
   ]
  },
  {
   "cell_type": "code",
   "execution_count": null,
   "metadata": {},
   "outputs": [],
   "source": []
  },
  {
   "cell_type": "code",
   "execution_count": 215,
   "metadata": {},
   "outputs": [
    {
     "data": {
      "text/html": [
       "<div>\n",
       "<style scoped>\n",
       "    .dataframe tbody tr th:only-of-type {\n",
       "        vertical-align: middle;\n",
       "    }\n",
       "\n",
       "    .dataframe tbody tr th {\n",
       "        vertical-align: top;\n",
       "    }\n",
       "\n",
       "    .dataframe thead th {\n",
       "        text-align: right;\n",
       "    }\n",
       "</style>\n",
       "<table border=\"1\" class=\"dataframe\">\n",
       "  <thead>\n",
       "    <tr style=\"text-align: right;\">\n",
       "      <th></th>\n",
       "      <th>Age</th>\n",
       "      <th>Sex</th>\n",
       "      <th>Race</th>\n",
       "    </tr>\n",
       "  </thead>\n",
       "  <tbody>\n",
       "    <tr>\n",
       "      <th>786</th>\n",
       "      <td>-0.487947</td>\n",
       "      <td>-0.112891</td>\n",
       "      <td>0.399738</td>\n",
       "    </tr>\n",
       "    <tr>\n",
       "      <th>352</th>\n",
       "      <td>1.045956</td>\n",
       "      <td>-0.112891</td>\n",
       "      <td>-0.707444</td>\n",
       "    </tr>\n",
       "    <tr>\n",
       "      <th>916</th>\n",
       "      <td>0.534655</td>\n",
       "      <td>-0.112891</td>\n",
       "      <td>-0.707444</td>\n",
       "    </tr>\n",
       "    <tr>\n",
       "      <th>1430</th>\n",
       "      <td>-0.896987</td>\n",
       "      <td>-0.112891</td>\n",
       "      <td>-0.707444</td>\n",
       "    </tr>\n",
       "    <tr>\n",
       "      <th>68</th>\n",
       "      <td>0.023354</td>\n",
       "      <td>-0.112891</td>\n",
       "      <td>0.399738</td>\n",
       "    </tr>\n",
       "    <tr>\n",
       "      <th>745</th>\n",
       "      <td>-0.692467</td>\n",
       "      <td>-0.112891</td>\n",
       "      <td>0.399738</td>\n",
       "    </tr>\n",
       "    <tr>\n",
       "      <th>1269</th>\n",
       "      <td>-0.487947</td>\n",
       "      <td>-0.112891</td>\n",
       "      <td>0.399738</td>\n",
       "    </tr>\n",
       "    <tr>\n",
       "      <th>673</th>\n",
       "      <td>-1.306028</td>\n",
       "      <td>-0.112891</td>\n",
       "      <td>2.614104</td>\n",
       "    </tr>\n",
       "    <tr>\n",
       "      <th>1148</th>\n",
       "      <td>0.739175</td>\n",
       "      <td>-0.112891</td>\n",
       "      <td>-0.707444</td>\n",
       "    </tr>\n",
       "    <tr>\n",
       "      <th>45</th>\n",
       "      <td>-0.385686</td>\n",
       "      <td>-0.112891</td>\n",
       "      <td>1.506921</td>\n",
       "    </tr>\n",
       "  </tbody>\n",
       "</table>\n",
       "</div>"
      ],
      "text/plain": [
       "           Age       Sex      Race\n",
       "786  -0.487947 -0.112891  0.399738\n",
       "352   1.045956 -0.112891 -0.707444\n",
       "916   0.534655 -0.112891 -0.707444\n",
       "1430 -0.896987 -0.112891 -0.707444\n",
       "68    0.023354 -0.112891  0.399738\n",
       "745  -0.692467 -0.112891  0.399738\n",
       "1269 -0.487947 -0.112891  0.399738\n",
       "673  -1.306028 -0.112891  2.614104\n",
       "1148  0.739175 -0.112891 -0.707444\n",
       "45   -0.385686 -0.112891  1.506921"
      ]
     },
     "execution_count": 215,
     "metadata": {},
     "output_type": "execute_result"
    }
   ],
   "source": [
    "#x_test.fillna(x_train.mean(), inplace=True)\n",
    "#x_test = x_test.fillna(x_train.mean())\n",
    "#x_test._is_view\n",
    "x_test.fillna(x_test.mean()).head(10)"
   ]
  },
  {
   "cell_type": "code",
   "execution_count": 216,
   "metadata": {},
   "outputs": [
    {
     "data": {
      "text/plain": [
       "LinearRegression(copy_X=True, fit_intercept=True, n_jobs=None,\n",
       "         normalize=False)"
      ]
     },
     "execution_count": 216,
     "metadata": {},
     "output_type": "execute_result"
    }
   ],
   "source": [
    "reg.fit(x_train,y_train)"
   ]
  },
  {
   "cell_type": "code",
   "execution_count": 217,
   "metadata": {},
   "outputs": [
    {
     "data": {
      "text/plain": [
       "1.0"
      ]
     },
     "execution_count": 217,
     "metadata": {},
     "output_type": "execute_result"
    }
   ],
   "source": [
    "reg.score(x_test,y_test)"
   ]
  },
  {
   "cell_type": "code",
   "execution_count": 218,
   "metadata": {},
   "outputs": [],
   "source": [
    "from sklearn import ensemble\n",
    "clf = ensemble.GradientBoostingRegressor(n_estimators = 400, max_depth = 5, min_samples_split = 2,\n",
    "          learning_rate = 0.1, loss = 'ls')"
   ]
  },
  {
   "cell_type": "code",
   "execution_count": 219,
   "metadata": {},
   "outputs": [
    {
     "data": {
      "text/plain": [
       "GradientBoostingRegressor(alpha=0.9, criterion='friedman_mse', init=None,\n",
       "             learning_rate=0.1, loss='ls', max_depth=5, max_features=None,\n",
       "             max_leaf_nodes=None, min_impurity_decrease=0.0,\n",
       "             min_impurity_split=None, min_samples_leaf=1,\n",
       "             min_samples_split=2, min_weight_fraction_leaf=0.0,\n",
       "             n_estimators=400, n_iter_no_change=None, presort='auto',\n",
       "             random_state=None, subsample=1.0, tol=0.0001,\n",
       "             validation_fraction=0.1, verbose=0, warm_start=False)"
      ]
     },
     "execution_count": 219,
     "metadata": {},
     "output_type": "execute_result"
    }
   ],
   "source": [
    "clf.fit(x_train, y_train)"
   ]
  },
  {
   "cell_type": "code",
   "execution_count": 220,
   "metadata": {},
   "outputs": [
    {
     "data": {
      "text/plain": [
       "0.9999923068226558"
      ]
     },
     "execution_count": 220,
     "metadata": {},
     "output_type": "execute_result"
    }
   ],
   "source": [
    "clf.score(x_test,y_test)"
   ]
  },
  {
   "cell_type": "code",
   "execution_count": 221,
   "metadata": {},
   "outputs": [],
   "source": [
    "from sklearn import ensemble\n",
    "clf = ensemble.GradientBoostingRegressor(n_estimators = 400, max_depth = 5, min_samples_split = 2,\n",
    "          learning_rate = 0.1, loss = 'ls')"
   ]
  },
  {
   "cell_type": "code",
   "execution_count": 222,
   "metadata": {},
   "outputs": [],
   "source": [
    "y_pred = reg.predict(x_test)"
   ]
  },
  {
   "cell_type": "code",
   "execution_count": 223,
   "metadata": {},
   "outputs": [],
   "source": [
    "from sklearn.preprocessing import scale\n",
    "from sklearn.decomposition import PCA"
   ]
  },
  {
   "cell_type": "code",
   "execution_count": 224,
   "metadata": {},
   "outputs": [],
   "source": [
    "pca = PCA()"
   ]
  },
  {
   "cell_type": "code",
   "execution_count": 225,
   "metadata": {},
   "outputs": [
    {
     "name": "stderr",
     "output_type": "stream",
     "text": [
      "/anaconda3/lib/python3.7/site-packages/ipykernel_launcher.py:1: DataConversionWarning: Data with input dtype int64 were all converted to float64 by the scale function.\n",
      "  \"\"\"Entry point for launching an IPython kernel.\n"
     ]
    },
    {
     "data": {
      "text/plain": [
       "array([[-7.36198313e-01,  5.81624685e-02, -1.72334371e+00],\n",
       "       [-4.60895219e-01, -2.90106889e-02, -1.42737168e+00],\n",
       "       [-1.24573365e+00,  5.31821389e-01,  2.35646534e+00],\n",
       "       ...,\n",
       "       [-2.17785690e-01, -1.88411823e-03,  3.76522728e-01],\n",
       "       [-8.32779009e-01,  4.01061653e-01,  2.80042340e+00],\n",
       "       [ 1.02107823e+00, -3.94163327e-01,  1.70839689e+00]])"
      ]
     },
     "execution_count": 225,
     "metadata": {},
     "output_type": "execute_result"
    }
   ],
   "source": [
    "pca.fit_transform(scale(train1))"
   ]
  },
  {
   "cell_type": "code",
   "execution_count": 227,
   "metadata": {},
   "outputs": [
    {
     "data": {
      "text/html": [
       "<div>\n",
       "<style scoped>\n",
       "    .dataframe tbody tr th:only-of-type {\n",
       "        vertical-align: middle;\n",
       "    }\n",
       "\n",
       "    .dataframe tbody tr th {\n",
       "        vertical-align: top;\n",
       "    }\n",
       "\n",
       "    .dataframe thead th {\n",
       "        text-align: right;\n",
       "    }\n",
       "</style>\n",
       "<table border=\"1\" class=\"dataframe\">\n",
       "  <thead>\n",
       "    <tr style=\"text-align: right;\">\n",
       "      <th></th>\n",
       "      <th>Age</th>\n",
       "      <th>Sex</th>\n",
       "      <th>Race</th>\n",
       "    </tr>\n",
       "  </thead>\n",
       "  <tbody>\n",
       "    <tr>\n",
       "      <th>Age</th>\n",
       "      <td>1.000000</td>\n",
       "      <td>0.056787</td>\n",
       "      <td>-0.156485</td>\n",
       "    </tr>\n",
       "    <tr>\n",
       "      <th>Sex</th>\n",
       "      <td>0.056787</td>\n",
       "      <td>1.000000</td>\n",
       "      <td>-0.044266</td>\n",
       "    </tr>\n",
       "    <tr>\n",
       "      <th>Race</th>\n",
       "      <td>-0.156485</td>\n",
       "      <td>-0.044266</td>\n",
       "      <td>1.000000</td>\n",
       "    </tr>\n",
       "  </tbody>\n",
       "</table>\n",
       "</div>"
      ],
      "text/plain": [
       "           Age       Sex      Race\n",
       "Age   1.000000  0.056787 -0.156485\n",
       "Sex   0.056787  1.000000 -0.044266\n",
       "Race -0.156485 -0.044266  1.000000"
      ]
     },
     "execution_count": 227,
     "metadata": {},
     "output_type": "execute_result"
    }
   ],
   "source": [
    "df.corr()"
   ]
  },
  {
   "cell_type": "code",
   "execution_count": 228,
   "metadata": {},
   "outputs": [
    {
     "name": "stdout",
     "output_type": "stream",
     "text": [
      "<bound method DataFrame.corr of             Date               Name  Age  Sex  Race  \\\n",
      "0     01/10/1986        James Roach   25    0     1   \n",
      "1     01/11/1985        Joseph Shaw   29    0     1   \n",
      "2     01/08/1997          Paul Ruiz   49    0     4   \n",
      "3     01/08/1997    Earl Van Denton   47    0     1   \n",
      "4     01/06/1994        Keith Wells   31    0     1   \n",
      "5     01/10/2000     Douglas Thomas   26    0     1   \n",
      "6     01/12/2000   Earl Heiselbertz   48    0     1   \n",
      "7     01/05/1993       Westley Dodd   31    0     1   \n",
      "8     01/04/1985       David Martin   32    0     1   \n",
      "9     01/09/2002      James Johnson   52    0     1   \n",
      "10    01/08/1999      Ronnie Howard   40    0     2   \n",
      "11    01/09/2001        Eddie Trice   48    0     2   \n",
      "12    01/11/2001        Wanda Allen   41    1     2   \n",
      "13    01/09/2001         Jack Clark   37    0     1   \n",
      "14    01/09/1985    Roosevelt Green   28    0     2   \n",
      "15    01/07/1988   Robert Streetman   27    0     1   \n",
      "16    01/06/1989      George Mercer   44    0     1   \n",
      "17    01/04/1995       Jesse Jacobs   44    0     1   \n",
      "18    01/04/1996     Walter Correll   34    0     1   \n",
      "19    01/08/1997    Kirt Wainwright   30    0     2   \n",
      "20    01/10/1997      Billy Waldrop   44    0     1   \n",
      "21    01/05/1999         John Moody   46    0     1   \n",
      "22    01/07/1999        John Castro   37    0     3   \n",
      "23    01/08/1999     Dobie Williams   38    0     2   \n",
      "24    01/06/2000    Malcolm Johnson   41    0     2   \n",
      "25    01/07/2000        David Duren   37    0     1   \n",
      "26    01/11/2001       Robert Glock   39    0     1   \n",
      "27    01/09/2002      Michael Moore   38    0     1   \n",
      "28    02/09/1999  Jaturun Siripongs   43    0     5   \n",
      "29    02/09/1998      Steven Renfro   40    0     1   \n",
      "...          ...                ...  ...  ...   ...   \n",
      "1462  10/12/2017      Robert Pruett   38    0     1   \n",
      "1463  10/19/2017      Torrey McNabb   40    0     2   \n",
      "1464  11/08/2017     Patrick Hannon   53    0     1   \n",
      "1466  11/08/2017     Ruben Cardenas   47    0     4   \n",
      "1467  01/18/2018      Anthony Shore   55    0     1   \n",
      "1468  01/30/2018    William Rayford   64    0     2   \n",
      "1469  02/01/2018     John Battaglia   62    0     1   \n",
      "1470  02/22/2018        Eric Branch   47    0     1   \n",
      "1471  03/15/2018     Michael Eggers   50    0     1   \n",
      "1472  03/15/2018       Carlton Gary   67    0     2   \n",
      "1473  03/27/2018  Rosendo Rodriguez   38    0     4   \n",
      "1474  04/19/2018       Walter Moody   83    0     1   \n",
      "1475  04/25/2018       Erick Davila   31    0     2   \n",
      "1476  05/04/2018       Robert Butts   40    0     2   \n",
      "1477  05/16/2018      Juan Castillo   37    0     4   \n",
      "1478  06/27/2018        Danny Bible   66    0     1   \n",
      "1479  07/17/2018  Christopher Young   34    0     2   \n",
      "1480  07/18/2018    Robert Van Hook   58    0     1   \n",
      "1481  08/09/2018        Billy Irick   59    0     1   \n",
      "1482  08/14/2018        Carey Moore   60    0     1   \n",
      "1483  09/26/2018         Troy Clark   51    0     1   \n",
      "1484  09/27/2018       Daniel Acker   46    0     1   \n",
      "1485  10/29/2018      Rodney Berget   56    0     1   \n",
      "1486  11/01/2018    Edmund Zagorski   63    0     1   \n",
      "1487  11/14/2018      Roberto Ramos   64    0     4   \n",
      "1489  12/04/2018      Joseph Garcia   64    0     4   \n",
      "1490  12/06/2018       David Miller   61    0     1   \n",
      "1491  12/11/2018      Alvin Braziel   43    0     2   \n",
      "1492  12/13/2018       Jose Jimenez   55    0     4   \n",
      "1493  01/30/2019    Robert Jennings   61    0     2   \n",
      "\n",
      "                         Victim_Race_Sex State Region            Method  \\\n",
      "0       1 White Male(s)1 White Female(s)    SC      S     Electrocution   \n",
      "1       1 White Male(s)1 White Female(s)    SC      S     Electrocution   \n",
      "2                        2 White Male(s)    AR      S  Lethal Injection   \n",
      "3                        2 White Male(s)    AR      S  Lethal Injection   \n",
      "4       1 White Male(s)1 White Female(s)    ID      W  Lethal Injection   \n",
      "5                        2 White Male(s)    VA      S  Lethal Injection   \n",
      "6                      2 White Female(s)    TX      S  Lethal Injection   \n",
      "7                        3 White Male(s)    WA      W           Hanging   \n",
      "8       2 White Male(s)2 White Female(s)    LA      S     Electrocution   \n",
      "9       2 White Male(s)2 White Female(s)    MO      M  Lethal Injection   \n",
      "10                       1 Asian Male(s)    SC      S  Lethal Injection   \n",
      "11                       1 Black Male(s)    OK      S  Lethal Injection   \n",
      "12                       1 Black Male(s)    OK      S  Lethal Injection   \n",
      "13                    1 Latino Female(s)    TX      S  Lethal Injection   \n",
      "14                     1 White Female(s)    GA      S     Electrocution   \n",
      "15                     1 White Female(s)    TX      S  Lethal Injection   \n",
      "16                     1 White Female(s)    MO      M  Lethal Injection   \n",
      "17                     1 White Female(s)    TX      S  Lethal Injection   \n",
      "18                       1 White Male(s)    VA      S  Lethal Injection   \n",
      "19                     1 White Female(s)    AR      S  Lethal Injection   \n",
      "20                       1 White Male(s)    AL      S     Electrocution   \n",
      "21                     1 White Female(s)    TX      S  Lethal Injection   \n",
      "22                     1 White Female(s)    OK      S  Lethal Injection   \n",
      "23                     1 White Female(s)    LA      S  Lethal Injection   \n",
      "24                     1 White Female(s)    OK      S  Lethal Injection   \n",
      "25                     1 White Female(s)    AL      S     Electrocution   \n",
      "26                     1 White Female(s)    FL      S  Lethal Injection   \n",
      "27                     1 White Female(s)    TX      S  Lethal Injection   \n",
      "28      1 Asian Male(s)1 Asian Female(s)    CA      W  Lethal Injection   \n",
      "29      1 White Male(s)2 White Female(s)    TX      S  Lethal Injection   \n",
      "...                                  ...   ...    ...               ...   \n",
      "1462                     1 White Male(s)    TX      S  Lethal Injection   \n",
      "1463                     1 Black Male(s)    AL      S  Lethal Injection   \n",
      "1464                     2 White Male(s)    FL      S  Lethal Injection   \n",
      "1466                  1 Latino Female(s)    TX      S  Lethal Injection   \n",
      "1467                  1 Latino Female(s)    TX      S  Lethal Injection   \n",
      "1468                   1 Black Female(s)    TX      S  Lethal Injection   \n",
      "1469                   2 White Female(s)    TX      S  Lethal Injection   \n",
      "1470                   1 White Female(s)    FL      S  Lethal Injection   \n",
      "1471                   1 White Female(s)    AL      S  Lethal Injection   \n",
      "1472                   3 White Female(s)    GA      S  Lethal Injection   \n",
      "1473                   1 White Female(s)    TX      S  Lethal Injection   \n",
      "1474                     1 White Male(s)    AL      S  Lethal Injection   \n",
      "1475                   2 Black Female(s)    TX      S  Lethal Injection   \n",
      "1476                     1 Black Male(s)    GA      S  Lethal Injection   \n",
      "1477                    1 Latino Male(s)    TX      S  Lethal Injection   \n",
      "1478                   1 White Female(s)    TX      S  Lethal Injection   \n",
      "1479                     1 Asian Male(s)    TX      S  Lethal Injection   \n",
      "1480                     1 White Male(s)    OH      M  Lethal Injection   \n",
      "1481                   1 White Female(s)    TN      S  Lethal Injection   \n",
      "1482                     2 White Male(s)    NE      M  Lethal Injection   \n",
      "1483                   1 White Female(s)    TX      S  Lethal Injection   \n",
      "1484                   1 White Female(s)    TX      S  Lethal Injection   \n",
      "1485                     1 White Male(s)    SD      M  Lethal Injection   \n",
      "1486                     2 White Male(s)    TN      S     Electrocution   \n",
      "1487  2 Latino Female(s)1 Latino Male(s)    TX      S  Lethal Injection   \n",
      "1489                     1 White Male(s)    TX      S  Lethal Injection   \n",
      "1490                   1 White Female(s)    TN      S     Electrocution   \n",
      "1491                     1 White Male(s)    TX      S  Lethal Injection   \n",
      "1492                   1 White Female(s)    FL      S  Lethal Injection   \n",
      "1493                     1 Black Male(s)    TX      S  Lethal Injection   \n",
      "\n",
      "     Juvenile Federal Volunteer Foreign National            County  \n",
      "0         Yes      No        No               No          Richland  \n",
      "1          No      No        No               No          Richland  \n",
      "2          No      No        No               No             Logan  \n",
      "3          No      No        No               No            Nevada  \n",
      "4          No      No       Yes               No               Ada  \n",
      "5         Yes      No        No               No         Middlesex  \n",
      "6          No      No        No               No            Sabine  \n",
      "7          No      No       Yes               No             Clark  \n",
      "8          No      No        No               No  Lafourche Parish  \n",
      "9          No      No        No               No          Moniteau  \n",
      "10         No      No        No               No        Greenville  \n",
      "11         No      No        No               No          Oklahoma  \n",
      "12         No      No        No               No          Oklahoma  \n",
      "13         No      No        No               No           Lubbock  \n",
      "14         No      No        No               No            Brooks  \n",
      "15         No      No        No               No            Hardin  \n",
      "16         No      No        No               No              Cass  \n",
      "17         No      No        No               No        Montgomery  \n",
      "18         No      No        No               No          Franklin  \n",
      "19         No      No        No               No             Logan  \n",
      "20         No      No        No               No         Talladega  \n",
      "21         No      No        No               No            Taylor  \n",
      "22         No      No        No               No               Kay  \n",
      "23         No      No        No               No     Sabine Parish  \n",
      "24         No      No        No               No          Oklahoma  \n",
      "25         No      No        No               No         Jefferson  \n",
      "26         No      No        No               No           Manatee  \n",
      "27         No      No        No               No           Coryell  \n",
      "28         No      No        No              Yes            Orange  \n",
      "29         No      No       Yes               No          Harrison  \n",
      "...       ...     ...       ...              ...               ...  \n",
      "1462       No      No        No               No               Bee  \n",
      "1463       No      No        No               No        Montgomery  \n",
      "1464       No      No        No               No      Hillsborough  \n",
      "1466       No      No        No              Yes           Hidalgo  \n",
      "1467       No      No        No               No            Harris  \n",
      "1468       No      No        No               No            Dallas  \n",
      "1469       No      No        No               No            Dallas  \n",
      "1470       No      No        No               No          Escambia  \n",
      "1471       No      No       Yes               No            Walker  \n",
      "1472       No      No        No               No          Muscogee  \n",
      "1473       No      No        No               No           Lubbock  \n",
      "1474       No      No        No               No         Jefferson  \n",
      "1475       No      No        No               No           Tarrant  \n",
      "1476       No      No        No               No           Baldwin  \n",
      "1477       No      No        No               No             Bexar  \n",
      "1478       No      No        No               No            Harris  \n",
      "1479       No      No        No               No             Bexar  \n",
      "1480       No      No        No               No          Hamilton  \n",
      "1481       No      No        No               No              Knox  \n",
      "1482       No      No       Yes               No           Douglas  \n",
      "1483       No      No        No               No             Smith  \n",
      "1484       No      No        No               No           Hopkins  \n",
      "1485       No      No       Yes               No         Minnehaha  \n",
      "1486       No      No        No               No         Robertson  \n",
      "1487       No      No        No              Yes           Hidalgo  \n",
      "1489       No      No        No               No            Dallas  \n",
      "1490       No      No        No               No              Knox  \n",
      "1491       No      No        No               No            Dallas  \n",
      "1492       No      No        No               No        Miami-Dade  \n",
      "1493       No      No        No               No            Harris  \n",
      "\n",
      "[1489 rows x 14 columns]>\n"
     ]
    }
   ],
   "source": [
    "print(df.corr)"
   ]
  },
  {
   "cell_type": "markdown",
   "metadata": {},
   "source": [
    "CONCLUSION:\n",
    "\n",
    "I was unable to find a strong correlation between age, sex and race and those who die from the death penalty. I might find capital punishment objectionable, but using my above methods, the there does not appear to be a preferred \"victim\" of this. I would have to explore the data further to find any stronger links, and would have to include more data sets than used in this project."
   ]
  },
  {
   "cell_type": "code",
   "execution_count": null,
   "metadata": {},
   "outputs": [],
   "source": []
  }
 ],
 "metadata": {
  "kernelspec": {
   "display_name": "Python 3",
   "language": "python",
   "name": "python3"
  },
  "language_info": {
   "codemirror_mode": {
    "name": "ipython",
    "version": 3
   },
   "file_extension": ".py",
   "mimetype": "text/x-python",
   "name": "python",
   "nbconvert_exporter": "python",
   "pygments_lexer": "ipython3",
   "version": "3.7.1"
  }
 },
 "nbformat": 4,
 "nbformat_minor": 2
}
